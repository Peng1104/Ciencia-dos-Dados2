{
 "cells": [
  {
   "cell_type": "markdown",
   "metadata": {},
   "source": [
    "# Projeto 2 - Ciência dos Dados - Estudo sobre Ifood"
   ]
  },
  {
   "cell_type": "markdown",
   "metadata": {},
   "source": [
    "Nome: Lucas Hix\n",
    "\n",
    "Nome: Andrea Mindlin Tessler"
   ]
  },
  {
   "cell_type": "markdown",
   "metadata": {},
   "source": [
    "___\n",
    "# Classificador automático de sentimento\n"
   ]
  },
  {
   "cell_type": "markdown",
   "metadata": {},
   "source": [
    "## Preparando o ambiente no jupyter:"
   ]
  },
  {
   "cell_type": "code",
   "execution_count": 6,
   "metadata": {},
   "outputs": [],
   "source": [
    "# Importações\n",
    "\n",
    "import tweepy\n",
    "import math\n",
    "import os.path\n",
    "import pandas as pd\n",
    "import json\n",
    "import re\n",
    "import string\n",
    "from random import shuffle"
   ]
  },
  {
   "cell_type": "markdown",
   "metadata": {},
   "source": [
    "___\n",
    "## Autenticando no  Twitter\n",
    "\n",
    "* Conta - Lucas Hix: ***@Peng1104Oficial***\n",
    "* Conta - Andrea Tessler: ***@Andrea25519779***"
   ]
  },
  {
   "cell_type": "code",
   "execution_count": 7,
   "metadata": {},
   "outputs": [],
   "source": [
    "# Dados de autenticação do twitter:\n",
    "\n",
    "def mkAPI(filename):\n",
    "    # leitura do arquivo no formato JSON\n",
    "    \n",
    "    with open(filename) as file:\n",
    "        data = json.load(file)\n",
    "    \n",
    "    # Configurando a biblioteca. Não modificar\n",
    "    \n",
    "    auth = tweepy.OAuthHandler(data['consumer_key'], data['consumer_secret'])\n",
    "    auth.set_access_token(data['access_token'], data['access_token_secret'])\n",
    "    \n",
    "    # Cria um objeto de API\n",
    "    return tweepy.API(auth)\n",
    "\n",
    "# Conta @Peng1104Oficial\n",
    "api_lucas = mkAPI(\"lucas-auth.pass\")\n",
    "\n",
    "# Conta @Andrea25519779\n",
    "api_andrea = mkAPI(\"andrea-auth.pass\")\n",
    "\n",
    "apis = [api_lucas, api_andrea]"
   ]
  },
  {
   "cell_type": "markdown",
   "metadata": {},
   "source": [
    "___\n",
    "## Etapas do projeto:"
   ]
  },
  {
   "cell_type": "markdown",
   "metadata": {},
   "source": [
    "### Escolha de um produto e coleta das mensagens\n"
   ]
  },
  {
   "cell_type": "markdown",
   "metadata": {},
   "source": [
    "Capturando os dados do twitter:"
   ]
  },
  {
   "cell_type": "code",
   "execution_count": 8,
   "metadata": {},
   "outputs": [
    {
     "name": "stdout",
     "output_type": "stream",
     "text": [
      "O Excel ifood 5.xlsx foi gerado!\n"
     ]
    }
   ],
   "source": [
    "# Faz a captura dos Tweets\n",
    "\n",
    "def getTweets(palavra_chave, quantidade_por_api):\n",
    "    # Lista da captura\n",
    "    resultado = []\n",
    "    \n",
    "    # Para cada api nas apis geradas\n",
    "    for api in apis:\n",
    "        # Contagem de Capturas\n",
    "        contagem = 0\n",
    "        \n",
    "        # Para cada Tweet na captura\n",
    "        for tweet in tweepy.Cursor(api.search, q=palavra_chave, lang=\"pt\", tweet_mode=\"extended\").items():\n",
    "            # Numero de pedidos = a qunatidade pedida\n",
    "            if contagem == quantidade_por_api:\n",
    "                break\n",
    "            else:\n",
    "                # Captura o texto do tweet\n",
    "                texto = tweet.full_text.lower()\n",
    "                \n",
    "                # Verifca se a palavra chave se encontra no texto do tweet\n",
    "                if palavra_chave.lower() in texto:\n",
    "                    # Remove duplicatas\n",
    "                    if texto not in resultado:\n",
    "                        resultado.append(texto)\n",
    "\n",
    "                contagem = contagem + 1\n",
    "    \n",
    "    # Embaralhando as mensagens para reduzir um possível viés\n",
    "    shuffle(resultado)\n",
    "    \n",
    "    return resultado\n",
    "\n",
    "# Escolha da marca a ser analisada\n",
    "marca = \"ifood\"\n",
    "\n",
    "# Esolha de quantidade por api (no caso quantidade*2)\n",
    "quantidade_por_api = 500\n",
    "\n",
    "dados = getTweets(marca, quantidade_por_api)\n",
    "\n",
    "# Prepara a nomeação dos execels\n",
    "\n",
    "numero_da_tentativa = 1\n",
    "\n",
    "# Lista de todos os arquivos no diretorio\n",
    "for file in os.listdir(\".\"):\n",
    "    if marca in file:\n",
    "        numero_da_tentativa = numero_da_tentativa + 1\n",
    "\n",
    "# Salva os dados em um arquivo excel\n",
    "file_name = marca + \" \" + str(numero_da_tentativa) + \".xlsx\"\n",
    "\n",
    "tabela = pd.DataFrame({\"Dados Coletados\": pd.Series(dados), \"Valor Atribuido\": [\"\"]*len(dados)})\n",
    "tabela.to_excel(file_name, index = False)\n",
    "\n",
    "print(\"O Excel\", file_name, \"foi gerado!\")"
   ]
  },
  {
   "cell_type": "markdown",
   "metadata": {},
   "source": [
    "___\n",
    "### Classificando as mensagens na coragem\n",
    "\n",
    "Esta etapa é manual. Faça a mesma pelo Excel."
   ]
  },
  {
   "cell_type": "code",
   "execution_count": 44,
   "metadata": {},
   "outputs": [],
   "source": [
    "# Transforma o excel avaliado em um DataFrame\n",
    "tabela_processada = pd.read_excel(\"ifood classificado.xlsx\")"
   ]
  },
  {
   "cell_type": "code",
   "execution_count": 57,
   "metadata": {},
   "outputs": [],
   "source": [
    "def limpeza(texto):\n",
    "    #Remove Menções\n",
    "    texto = re.sub(\"@[^ ]*\", \"\", texto)\n",
    "    #Remove links\n",
    "    texto = re.sub(\"http(|s):\\/\\/[^ ]*\", \"\", texto)\n",
    "    #Remove Pontuações\n",
    "    texto = re.sub(\"[\" + string.punctuation + \"]+\", \"\", texto)\n",
    "    #Remove a marca analisada\n",
    "    return re.sub(\"{0}\".format(marca), \" \", texto)\n",
    "\n",
    "def getProcesso(valor):\n",
    "    # Separa os dados dado o valor\n",
    "    valores = tabela_processada[tabela_processada[\"Valor Atribuido\"] == valor]\n",
    "    \n",
    "    # Junta todos os tweets separados em uma string\n",
    "    texto = limpeza(valores[\"Dados Coletados\"].str.cat())\n",
    "    \n",
    "    return pd.Series(texto.split()).value_counts(True)\n",
    "\n",
    "contra = getProcesso(1)\n",
    "favoravel = getProcesso(0)"
   ]
  },
  {
   "cell_type": "code",
   "execution_count": 59,
   "metadata": {},
   "outputs": [
    {
     "name": "stdout",
     "output_type": "stream",
     "text": [
      "O Excel ifood 5.xlsx foi gerado!\n"
     ]
    }
   ],
   "source": [
    "# Nova captura de dados\n",
    "teste = getTweets(marca, quantidade_por_api)\n",
    "\n",
    "resultado = []\n",
    "\n",
    "for tweet in teste:\n",
    "    # Probabilidade de ser contra\n",
    "    prob_contra = 0\n",
    "    \n",
    "    # Probabilidade de ser favoravel\n",
    "    prob_favoravel = 0\n",
    "    \n",
    "    # Separa o texto\n",
    "    for palavra in limpeza(tweet).split():\n",
    "        # Verifica se a palavra se encontra no \"Contra\"\n",
    "        if palavra in contra:\n",
    "            prob_contra = prob_contra + contra[palavra]\n",
    "        # Verifca se a palavra se encontra no \"Favoravel\"\n",
    "        if palavra in favoravel:\n",
    "            prob_favoravel = prob_favoravel + favoravel[palavra]\n",
    "    \n",
    "    # Atribui o valor para o tweet\n",
    "    if prob_contra > prob_favoravel:\n",
    "        resultado.append(1) # Contra\n",
    "    elif prob_contra == prob_favoravel:\n",
    "        resultado.append(3) # Neutro\n",
    "    else:\n",
    "        resultado.append(0) # Favoravel\n",
    "\n",
    "# Salva o teste em um arquivo excel\n",
    "file_name_teste = \"Teste \" + marca + \" \" + str(numero_da_tentativa) + \".xlsx\"\n",
    "\n",
    "tabela = pd.DataFrame({\"Dados Coletados\": pd.Series(teste), \"Valor Atribuido Automatico\": resultado,\n",
    "                       \"Valor Atribuido\": [\"\"]*len(teste)})\n",
    "\n",
    "tabela.to_excel(file_name_teste, index = False)\n",
    "\n",
    "print(\"O Excel\", file_name_teste, \"foi gerado!\")"
   ]
  },
  {
   "cell_type": "markdown",
   "metadata": {},
   "source": [
    "___\n",
    "### Montando o Classificador Naive-Bayes\n",
    "\n",
    "Considerando apenas as mensagens da planilha Treinamento, ensine  seu classificador."
   ]
  },
  {
   "cell_type": "code",
   "execution_count": null,
   "metadata": {},
   "outputs": [],
   "source": []
  },
  {
   "cell_type": "code",
   "execution_count": null,
   "metadata": {},
   "outputs": [],
   "source": []
  },
  {
   "cell_type": "code",
   "execution_count": null,
   "metadata": {},
   "outputs": [],
   "source": []
  },
  {
   "cell_type": "markdown",
   "metadata": {},
   "source": [
    "___\n",
    "### Verificando a performance\n",
    "\n",
    "Agora você deve testar o seu classificador com a base de Testes."
   ]
  },
  {
   "cell_type": "code",
   "execution_count": null,
   "metadata": {},
   "outputs": [],
   "source": []
  },
  {
   "cell_type": "code",
   "execution_count": null,
   "metadata": {},
   "outputs": [],
   "source": []
  },
  {
   "cell_type": "code",
   "execution_count": null,
   "metadata": {},
   "outputs": [],
   "source": []
  },
  {
   "cell_type": "markdown",
   "metadata": {},
   "source": [
    "___\n",
    "### Concluindo"
   ]
  },
  {
   "cell_type": "code",
   "execution_count": null,
   "metadata": {},
   "outputs": [],
   "source": []
  },
  {
   "cell_type": "code",
   "execution_count": null,
   "metadata": {},
   "outputs": [],
   "source": []
  },
  {
   "cell_type": "markdown",
   "metadata": {},
   "source": [
    "## Aperfeiçoamento:\n",
    "\n",
    "Os trabalhos vão evoluir em conceito dependendo da quantidade de itens avançados:\n",
    "\n",
    "* Limpar: \\n, :, \", ', (, ), etc SEM remover emojis\n",
    "* Corrigir separação de espaços entre palavras e emojis ou emojis e emojis\n",
    "* Propor outras limpezas e transformações que não afetem a qualidade da informação ou classificação\n",
    "* Criar categorias intermediárias de relevância baseadas na probabilidade: ex.: muito relevante, relevante, neutro, irrelevante, muito irrelevante (3 categorias: C, mais categorias conta para B)\n",
    "* Explicar por que não posso usar o próprio classificador para gerar mais amostras de treinamento\n",
    "* Propor diferentes cenários para Naïve Bayes fora do contexto do projeto\n",
    "* Sugerir e explicar melhorias reais com indicações concretas de como implementar (indicar como fazer e indicar material de pesquisa)\n",
    "* Montar um dashboard que periodicamente realiza análise de sentimento e visualiza estes dados"
   ]
  },
  {
   "cell_type": "markdown",
   "metadata": {},
   "source": [
    "# Referências"
   ]
  },
  {
   "cell_type": "markdown",
   "metadata": {},
   "source": [
    "[Naive Bayes and Text Classification](https://arxiv.org/pdf/1410.5329.pdf)  **Mais completo**\n",
    "\n",
    "[A practical explanation of a Naive Bayes Classifier](https://monkeylearn.com/blog/practical-explanation-naive-bayes-classifier/) **Mais simples**"
   ]
  },
  {
   "cell_type": "code",
   "execution_count": null,
   "metadata": {},
   "outputs": [],
   "source": []
  }
 ],
 "metadata": {
  "kernelspec": {
   "display_name": "Python 3",
   "language": "python",
   "name": "python3"
  },
  "language_info": {
   "codemirror_mode": {
    "name": "ipython",
    "version": 3
   },
   "file_extension": ".py",
   "mimetype": "text/x-python",
   "name": "python",
   "nbconvert_exporter": "python",
   "pygments_lexer": "ipython3",
   "version": "3.7.4"
  }
 },
 "nbformat": 4,
 "nbformat_minor": 4
}
