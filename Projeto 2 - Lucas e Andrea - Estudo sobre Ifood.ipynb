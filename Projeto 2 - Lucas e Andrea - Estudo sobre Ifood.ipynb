{
 "cells": [
  {
   "cell_type": "markdown",
   "metadata": {},
   "source": [
    "# Projeto 2 - Ciência dos Dados - Estudo sobre Ifood"
   ]
  },
  {
   "cell_type": "markdown",
   "metadata": {},
   "source": [
    "Nome: Lucas Hix\n",
    "\n",
    "Nome: Andrea Mindlin Tessler"
   ]
  },
  {
   "cell_type": "markdown",
   "metadata": {},
   "source": [
    "___\n",
    "# Classificador automático de sentimento\n"
   ]
  },
  {
   "cell_type": "markdown",
   "metadata": {},
   "source": [
    "## Preparando o ambiente no jupyter:"
   ]
  },
  {
   "cell_type": "code",
   "execution_count": 1,
   "metadata": {},
   "outputs": [],
   "source": [
    "# Importações\n",
    "\n",
    "import tweepy\n",
    "import math\n",
    "import os.path\n",
    "import pandas as pd\n",
    "import json\n",
    "import re\n",
    "import string\n",
    "from random import shuffle"
   ]
  },
  {
   "cell_type": "markdown",
   "metadata": {},
   "source": [
    "___\n",
    "## Autenticando no  Twitter\n",
    "\n",
    "* Conta - Lucas Hix: ***@Peng1104Oficial***\n",
    "* Conta - Andrea Tessler: ***@Andrea25519779***"
   ]
  },
  {
   "cell_type": "code",
   "execution_count": 2,
   "metadata": {},
   "outputs": [],
   "source": [
    "# Dados de autenticação do twitter:\n",
    "\n",
    "def mkAPI(filename):\n",
    "    # leitura do arquivo no formato JSON\n",
    "    \n",
    "    with open(filename) as file:\n",
    "        data = json.load(file)\n",
    "    \n",
    "    # Configurando a biblioteca. Não modificar\n",
    "    \n",
    "    auth = tweepy.OAuthHandler(data['consumer_key'], data['consumer_secret'])\n",
    "    auth.set_access_token(data['access_token'], data['access_token_secret'])\n",
    "    \n",
    "    # Cria um objeto de API\n",
    "    return tweepy.API(auth)\n",
    "\n",
    "# Conta @Peng1104Oficial\n",
    "api_lucas = mkAPI(\"lucas-auth.pass\")\n",
    "\n",
    "# Conta @Andrea25519779\n",
    "api_andrea = mkAPI(\"andrea-auth.pass\")\n",
    "\n",
    "apis = [api_lucas, api_andrea]"
   ]
  },
  {
   "cell_type": "markdown",
   "metadata": {},
   "source": [
    "___\n",
    "## Etapas do projeto:"
   ]
  },
  {
   "cell_type": "markdown",
   "metadata": {},
   "source": [
    "### Funções essenciais para o projeto"
   ]
  },
  {
   "cell_type": "code",
   "execution_count": 15,
   "metadata": {},
   "outputs": [],
   "source": [
    "# Função para a captura de Tweets\n",
    "def getTweets(palavra_de_procura, quantidade_de_procuras_por_api):\n",
    "    # Lista do resultado final da captura\n",
    "    resultado = []\n",
    "    \n",
    "    # Para cada API gerada\n",
    "    for api in apis:\n",
    "        # Contagem de captura para a API\n",
    "        contagem = 0\n",
    "        \n",
    "        # Captura de um novo tweet\n",
    "        for tweet in tweepy.Cursor(api.search, q=palavra_de_procura, lang=\"pt\", tweet_mode=\"extended\").items():\n",
    "            # Se a contagem para esta api for igual a quatidade pedida para as capturas\n",
    "            if contagem == quantidade_de_procuras_por_api:\n",
    "                break\n",
    "            else:\n",
    "                # Texto do tweet capturado\n",
    "                texto = tweet.full_text.lower()\n",
    "                \n",
    "                #Verfica se a palavra de procura se encontra no texto:\n",
    "                if palavra_de_procura.lower() in texto:\n",
    "                    # Não adiciona tweet duplicado\n",
    "                    if texto not in resultado:\n",
    "                        resultado.append(texto)\n",
    "                \n",
    "                #Adiciona 1 captura a contagem de capturas para esta API\n",
    "                contagem = contagem + 1\n",
    "                print(\"{0:.0f}% das capturas realizadas\".format((contagem/quantidade_de_procuras_por_api)*100), end=\"\\r\")\n",
    "    \n",
    "    # Embaralhando as mensagens para reduzir um possível viés\n",
    "    shuffle(resultado)\n",
    "    \n",
    "    return resultado\n",
    "\n",
    "# Função para limpar um texto de um Tweet\n",
    "def limpar_texto(texto, marca):\n",
    "    #Remove Menções\n",
    "    texto = re.sub(\"@[^ ]*\", \"\", texto)\n",
    "    #Remove links\n",
    "    texto = re.sub(\"http(|s):\\/\\/[^ ]*\", \"\", texto)\n",
    "    #Remove Pontuações\n",
    "    texto = re.sub(\"[\" + string.punctuation + \"]+\", \"\", texto)\n",
    "    #Remove a marca analisada\n",
    "    return re.sub(\"{0}\".format(marca), \" \", texto)\n",
    "\n",
    "# Função para processar um valor atribuido aos tweets analisados na tabela processada \n",
    "def calcular_valor(tabela_processada, valor, marca):\n",
    "    # Separa os dados da tabela com o valor selecionado\n",
    "    valores = tabela_processada[tabela_processada[\"Valor Atribuido\"] == valor]\n",
    "    \n",
    "    # Junta todos os tweets separados em uma string\n",
    "    mensagens = limpar_texto(valores[\"Dados Coletados\"].str.cat(), marca)\n",
    "    \n",
    "    # Cria uma series contendo todas as palavras das mensagens\n",
    "    series = pd.Series(mensagens.split())\n",
    "    \n",
    "    # Cria uma series contendo a probabilidade de cada palavra estar na categoria selecionada\n",
    "    return series.value_counts(True)"
   ]
  },
  {
   "cell_type": "markdown",
   "metadata": {},
   "source": [
    "### Escolha de uma marca e coleta das mensagens"
   ]
  },
  {
   "cell_type": "markdown",
   "metadata": {},
   "source": [
    "Separação da marca a ser analisada e a quantiade de capturas a ser feitas para cada api"
   ]
  },
  {
   "cell_type": "code",
   "execution_count": 4,
   "metadata": {},
   "outputs": [],
   "source": [
    "# Escolha da marca a ser analisada\n",
    "marca = \"Ifood\"\n",
    "\n",
    "# Esolha de quantidade por api (no caso quantidade*2)\n",
    "quantidade_por_api = 500"
   ]
  },
  {
   "cell_type": "markdown",
   "metadata": {},
   "source": [
    "Preparação para a nomeação dos Excels"
   ]
  },
  {
   "cell_type": "code",
   "execution_count": 6,
   "metadata": {},
   "outputs": [],
   "source": [
    "# Numero de capturas ja realizadas\n",
    "numero_de_capturas_realizadas = 1\n",
    "\n",
    "# Verifica dentro do diretorio o numero de capturas realizadas\n",
    "for file in os.listdir(\".\"):\n",
    "    if re.search(\"{0} \\d+\".format(marca), file):\n",
    "        numero_de_capturas_realizadas = numero_de_capturas_realizadas + 1\n",
    "\n",
    "# Cria o nome do excel a ser criado\n",
    "nome_base_do_arquivo = marca + \"-\" + str(numero_de_capturas_realizadas) \n",
    "\n",
    "nome_do_arquivo = nome_base_do_arquivo + \".xlsx\""
   ]
  },
  {
   "cell_type": "markdown",
   "metadata": {},
   "source": [
    "Captura de dados"
   ]
  },
  {
   "cell_type": "code",
   "execution_count": 10,
   "metadata": {},
   "outputs": [
    {
     "name": "stdout",
     "output_type": "stream",
     "text": [
      "100% das capturas realizadas\r"
     ]
    }
   ],
   "source": [
    "dados = getTweets(marca, quantidade_por_api)"
   ]
  },
  {
   "cell_type": "markdown",
   "metadata": {},
   "source": [
    "Salva os dados capturados em um Execel"
   ]
  },
  {
   "cell_type": "code",
   "execution_count": 12,
   "metadata": {},
   "outputs": [
    {
     "name": "stdout",
     "output_type": "stream",
     "text": [
      "O Excel Ifood-1.xlsx foi gerado!\n"
     ]
    }
   ],
   "source": [
    "tabela = pd.DataFrame({\"Dados Coletados\": pd.Series(dados), \"Valor Atribuido\": [\"\"]*len(dados)})\n",
    "tabela.to_excel(nome_do_arquivo, index = False)\n",
    "\n",
    "print(\"O Excel\", nome_do_arquivo, \"foi gerado!\")"
   ]
  },
  {
   "cell_type": "markdown",
   "metadata": {},
   "source": [
    "___\n",
    "### Classificando as mensagens na coragem\n",
    "\n",
    "Esta etapa é manual, feita pelo Excel."
   ]
  },
  {
   "cell_type": "markdown",
   "metadata": {},
   "source": [
    "___\n",
    "### Montando o Classificador Naive-Bayes\n",
    "\n",
    "Considerando apenas as mensagens da planilha Treinamento, ensine  seu classificador."
   ]
  },
  {
   "cell_type": "code",
   "execution_count": 17,
   "metadata": {},
   "outputs": [],
   "source": [
    "# Transforma o excel avaliado em um DataFrame\n",
    "tabela_processada = pd.read_excel(\"ifood classificado.xlsx\")"
   ]
  },
  {
   "cell_type": "code",
   "execution_count": 19,
   "metadata": {},
   "outputs": [
    {
     "data": {
      "text/plain": [
       "que    0.030383\n",
       "de     0.027741\n",
       "o      0.022457\n",
       "e      0.019815\n",
       "não    0.018494\n",
       "dtype: float64"
      ]
     },
     "execution_count": 19,
     "metadata": {},
     "output_type": "execute_result"
    }
   ],
   "source": [
    "# Pega os valores atribuidos na tabela para cada tweet e cria as probabilidade da palavra na categoria\n",
    "contra = calcular_valor(tabela_processada, 1, marca)\n",
    "favoravel = calcular_valor(tabela_processada, 0, marca)\n",
    "\n",
    "favoravel.head(5)"
   ]
  },
  {
   "cell_type": "code",
   "execution_count": 20,
   "metadata": {},
   "outputs": [],
   "source": [
    "# Cria um dicionario para o naive-bayes\n",
    "dict_de_atribuicoes = {0 : favoravel, 1: contra}"
   ]
  },
  {
   "cell_type": "markdown",
   "metadata": {},
   "source": [
    "___\n",
    "### Verificando a performance\n",
    "\n",
    "Agora você deve testar o seu classificador com a base de Testes."
   ]
  },
  {
   "cell_type": "code",
   "execution_count": 26,
   "metadata": {},
   "outputs": [],
   "source": [
    "# Função para executar um teste dando dados e um dicionanrio contendo as atribuições\n",
    "def executar_teste(dados_de_teste, dict_de_atribuicoes, marca):\n",
    "    # Lista contendo os resultados para cada dado de teste\n",
    "    resultado = []\n",
    "    \n",
    "    for mensagem in dados_de_teste:\n",
    "        # Aramazena as probabilidades de cada atribuição\n",
    "        probabilidades = {}\n",
    "        \n",
    "        # Separa as palavras na mensagem\n",
    "        for palavra in limpar_texto(mensagem, marca).split():\n",
    "            # Para cada tipo de atribuição\n",
    "            for tipo, probabilidade in dict_de_atribuicoes.items():\n",
    "                # Verifica se a palavra se encontra em uma das atribuições\n",
    "                if palavra in probabilidade:\n",
    "                    # Adiciona a probabilidade da palavra ao conjunto das probabilidades\n",
    "                    if tipo in probabilidades:\n",
    "                        probabilidades[tipo] = probabilidades[tipo] + probabilidade[palavra]\n",
    "                    else:\n",
    "                        probabilidades[tipo] = probabilidade[palavra]\n",
    "        \n",
    "        # Adiciona ao resultado o valor atribuido a esta mensagem\n",
    "        \n",
    "        # Não corespondeu a nenhuma probabilidade\n",
    "        if len(probabilidades) == 0:\n",
    "            resultado.append(-1)\n",
    "        else:\n",
    "            resultado.append(max(probabilidades, key=probabilidades.get))\n",
    "    \n",
    "    return resultado"
   ]
  },
  {
   "cell_type": "code",
   "execution_count": 24,
   "metadata": {},
   "outputs": [
    {
     "name": "stdout",
     "output_type": "stream",
     "text": [
      "100% das capturas realizadas\r"
     ]
    }
   ],
   "source": [
    "# Nova captura de dados\n",
    "teste = getTweets(marca, quantidade_por_api)"
   ]
  },
  {
   "cell_type": "code",
   "execution_count": 27,
   "metadata": {},
   "outputs": [],
   "source": [
    "# Gera o resultado do teste\n",
    "resultado_do_teste = executar_teste(teste, dict_de_atribuicoes, marca)"
   ]
  },
  {
   "cell_type": "code",
   "execution_count": 29,
   "metadata": {},
   "outputs": [
    {
     "name": "stdout",
     "output_type": "stream",
     "text": [
      "O Excel Ifood-1-Teste.xlsx foi gerado!\n"
     ]
    }
   ],
   "source": [
    "# Salva o teste em um arquivo excel\n",
    "nome_do_arquivo_de_teste = nome_base_do_arquivo + \"-Teste.xlsx\"\n",
    "\n",
    "tabela = pd.DataFrame({\"Dados Coletados\": pd.Series(teste), \"Valor Atribuido Automatico\": resultado_do_teste,\n",
    "                       \"Valor Atribuido\": [\"\"]*len(teste)})\n",
    "\n",
    "tabela.to_excel(nome_do_arquivo_de_teste, index = False)\n",
    "\n",
    "print(\"O Excel\", nome_do_arquivo_de_teste, \"foi gerado!\")"
   ]
  },
  {
   "cell_type": "markdown",
   "metadata": {},
   "source": [
    "___\n",
    "### Concluindo"
   ]
  },
  {
   "cell_type": "code",
   "execution_count": null,
   "metadata": {},
   "outputs": [],
   "source": []
  },
  {
   "cell_type": "code",
   "execution_count": null,
   "metadata": {},
   "outputs": [],
   "source": []
  },
  {
   "cell_type": "markdown",
   "metadata": {},
   "source": [
    "## Aperfeiçoamento:\n",
    "\n",
    "Os trabalhos vão evoluir em conceito dependendo da quantidade de itens avançados:\n",
    "\n",
    "* Limpar: \\n, :, \", ', (, ), etc SEM remover emojis\n",
    "* Corrigir separação de espaços entre palavras e emojis ou emojis e emojis\n",
    "* Propor outras limpezas e transformações que não afetem a qualidade da informação ou classificação\n",
    "* Criar categorias intermediárias de relevância baseadas na probabilidade: ex.: muito relevante, relevante, neutro, irrelevante, muito irrelevante (3 categorias: C, mais categorias conta para B)\n",
    "* Explicar por que não posso usar o próprio classificador para gerar mais amostras de treinamento\n",
    "* Propor diferentes cenários para Naïve Bayes fora do contexto do projeto\n",
    "* Sugerir e explicar melhorias reais com indicações concretas de como implementar (indicar como fazer e indicar material de pesquisa)\n",
    "* Montar um dashboard que periodicamente realiza análise de sentimento e visualiza estes dados"
   ]
  },
  {
   "cell_type": "markdown",
   "metadata": {},
   "source": [
    "# Referências"
   ]
  },
  {
   "cell_type": "markdown",
   "metadata": {},
   "source": [
    "[Naive Bayes and Text Classification](https://arxiv.org/pdf/1410.5329.pdf)  **Mais completo**\n",
    "\n",
    "[A practical explanation of a Naive Bayes Classifier](https://monkeylearn.com/blog/practical-explanation-naive-bayes-classifier/) **Mais simples**"
   ]
  }
 ],
 "metadata": {
  "kernelspec": {
   "display_name": "Python 3",
   "language": "python",
   "name": "python3"
  },
  "language_info": {
   "codemirror_mode": {
    "name": "ipython",
    "version": 3
   },
   "file_extension": ".py",
   "mimetype": "text/x-python",
   "name": "python",
   "nbconvert_exporter": "python",
   "pygments_lexer": "ipython3",
   "version": "3.7.4"
  }
 },
 "nbformat": 4,
 "nbformat_minor": 4
}
