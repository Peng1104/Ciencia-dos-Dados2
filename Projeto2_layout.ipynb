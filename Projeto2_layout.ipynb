{
 "cells": [
  {
   "cell_type": "markdown",
   "metadata": {},
   "source": [
    "# Projeto 2 - Ciência dos Dados"
   ]
  },
  {
   "cell_type": "markdown",
   "metadata": {},
   "source": [
    "Nome: Lucas Hix\n",
    "\n",
    "Nome: Andrea Mindlin Tessler"
   ]
  },
  {
   "cell_type": "markdown",
   "metadata": {},
   "source": [
    "___\n",
    "# Classificador automático de sentimento\n"
   ]
  },
  {
   "cell_type": "markdown",
   "metadata": {},
   "source": [
    "## Preparando o ambiente no jupyter:"
   ]
  },
  {
   "cell_type": "code",
   "execution_count": 1,
   "metadata": {},
   "outputs": [],
   "source": [
    "# Importações\n",
    "\n",
    "import tweepy\n",
    "import math\n",
    "import os.path\n",
    "import pandas as pd\n",
    "import json\n",
    "import re\n",
    "import string\n",
    "from random import shuffle"
   ]
  },
  {
   "cell_type": "markdown",
   "metadata": {},
   "source": [
    "## Autenticando no  Twitter"
   ]
  },
  {
   "cell_type": "code",
   "execution_count": 2,
   "metadata": {},
   "outputs": [],
   "source": [
    "# Dados de autenticação do twitter:\n",
    "\n",
    "def mkAPI(filename):\n",
    "    # leitura do arquivo no formato JSON\n",
    "    \n",
    "    with open(filename) as file:\n",
    "        data = json.load(file)\n",
    "    \n",
    "    # Configurando a biblioteca. Não modificar\n",
    "    \n",
    "    auth = tweepy.OAuthHandler(data['consumer_key'], data['consumer_secret'])\n",
    "    auth.set_access_token(data['access_token'], data['access_token_secret'])\n",
    "    \n",
    "    # Cria um objeto para a captura\n",
    "    return tweepy.API(auth)\n",
    "\n",
    "# Coloque aqui o identificador da conta no twitter: @Andrea25519779\n",
    "api_andrea = mkAPI(\"andrea-auth.pass\")\n",
    "\n",
    "# Coloque aqui o identificador da conta no twitter: @Peng1104Oficial\n",
    "api_lucas = mkAPI(\"lucas-auth.pass\")"
   ]
  },
  {
   "cell_type": "markdown",
   "metadata": {},
   "source": [
    "___\n",
    "## Etapas do projeto:"
   ]
  },
  {
   "cell_type": "markdown",
   "metadata": {},
   "source": [
    "### Escolha de um produto e coleta das mensagens\n"
   ]
  },
  {
   "cell_type": "markdown",
   "metadata": {},
   "source": [
    "Capturando os dados do twitter:"
   ]
  },
  {
   "cell_type": "code",
   "execution_count": null,
   "metadata": {},
   "outputs": [],
   "source": [
    "# Faz a captura\n",
    "\n",
    "def getTweets(api, quantidade, palavra_chave):\n",
    "    tweets = []\n",
    "    \n",
    "    tweets_count = 0\n",
    "    \n",
    "    for tweet in tweepy.Cursor(api.search, q=palavra_chave, lang=\"pt\", tweet_mode=\"extended\").items():\n",
    "        text = tweet.full_text.lower()\n",
    "        \n",
    "        if palavra_chave in text:\n",
    "            add = re.sub(\"@[^ ]*|{0}+\".replace(\"{0}\", palavra_chave), \"\", text)\n",
    "            \n",
    "            if add not in tweets:\n",
    "                tweets.append(add)\n",
    "        \n",
    "        tweets_count = tweets_count + 1\n",
    "        \n",
    "        if tweets_count > quantidade:\n",
    "            break\n",
    "    \n",
    "    return tweets\n",
    "\n",
    "# Escolha sua palavra chave\n",
    "palavra_chave = \"ifood\"\n",
    "\n",
    "# Escolha sua quantiade (lembre que é 2x)\n",
    "\n",
    "quantidade = 250\n",
    "\n",
    "dados = []\n",
    "\n",
    "dados.extend(getTweets(api_andrea, quantidade, palavra_chave))\n",
    "dados.extend(getTweets(api_lucas, quantidade, palavra_chave))\n",
    "\n",
    "# Embaralhando as mensagens para reduzir um possível viés\n",
    "shuffle(dados)\n",
    "\n",
    "count = 1\n",
    "\n",
    "for file in os.listdir(\".\"):\n",
    "    if palavra_chave in file:\n",
    "        count = count + 1\n",
    "\n",
    "file_name = palavra_chave + \" \" + str(count) + \".xlsx\"\n",
    "\n",
    "tabela = pd.DataFrame({\"Dados\": pd.Series(dados)})\n",
    "tabela.to_excel(file_name, index = False)\n",
    "\n",
    "print(\"O Excel\", file_name, \"foi gerado!\")"
   ]
  },
  {
   "cell_type": "markdown",
   "metadata": {},
   "source": [
    "___\n",
    "### Classificando as mensagens na coragem\n",
    "\n",
    "Esta etapa é manual. Faça a mesma pelo Excel."
   ]
  },
  {
   "cell_type": "code",
   "execution_count": 61,
   "metadata": {},
   "outputs": [
    {
     "name": "stdout",
     "output_type": "stream",
     "text": [
      "['nao', 'consigo', 'finalizar', 'a', 'compra', 'no', 'app', 'por', 'nada', 'podem', 'me', 'ajudar', 'por', 'favorposso', 'nem', 'tentar', 'pedir', 'um', 'que', 'da', 'errado,', 'app', 'tóxiconao', 'consigo', 'finalizar', 'a', 'compra', 'no', 'app', 'por', 'nada', 'podem', 'me', 'ajudar', 'por', 'favor', 'caralho', 'q', 'comida', 'ruim', 'q', 'pedi', 'no', ',', 'puta', 'que', 'pariu', 'comi', 'na', 'força', 'do', 'ódio', 'e', 'da', 'fomeo', 'deixa', 'muito', 'a', 'desejar', 'nessa', 'parteatenção!', 'donos', 'de', 'restaurantes', 'ou', 'lanchonetes!', 'fujam', 'desta', 'empresa!', 'não', 'repassam', 'o', 'dinheiro!saiam', 'rápido', 'não', 'repassam', 'o', 'nosso', 'dinheiro', 'https://tco/txiyqrjlyu', 'o', 'que', 'tá', 'havendo', 'com', 'o', 'chat', 'do', 'app', 'além', 'de', 'não', 'ter', 'recebido', 'o', 'pedido,', 'não', 'consigo', 'falar', 'com', 'vcs', 'de', 'jeito', 'nenhum!', 'cadê', 'q', 'vc', 'mandou', 'o', '😠esse', 'app', 'do', 'tá', 'tirando', 'onda', '😤e', 'o', 'gustavo', 'que', 'foi', 'atropelado', 'por', 'um', 'motorista', 'do', 'gente,', 'ele', 'quebro', 'o', 'nariz', 'coitadinho,', 'to', 'tão', 'triste', 'por', 'elea', 'caraia', 'do', 'não', 'aceita', 'meu', 'cartão', 'por', 'queo', 'deixa', 'muito', 'a', 'desejar', 'nessa', 'parte', 'posso', 'nem', 'tentar', 'pedir', 'um', 'que', 'da', 'errado,', 'app', 'tóxicoanúncio', 'do', 'é', 'muito', 'chato,', 'pqpa', 'caraia', 'do', 'não', 'aceita', 'meu', 'cartão', 'por', 'quejá', 'respondi', 'faz', 'horas!', 'vocês', 'não', 'me', 'pagaram!', 'desde', 'julho!empresas', 'fujam', 'dessa', 'fraude!', 'https://tco/zexfggfzrqjá', 'respondi', 'faz', 'horas!', 'vocês', 'não', 'me', 'pagaram!', 'desde', 'julho!empresas', 'fujam', 'dessa', 'fraude!', 'https://tco/zexfggfzrqlegal', 'o', 'motoboy', 'passou', 'reto!', 'não', 'parou', 'meia', 'hora', 'depois', 'nada', 'de', 'e', 'tão', 'pouco', 'o', 'restaurante!', 'parabéns', 'pelo', 'excelente', 'atendimentocadê', 'q', 'vc', 'mandou', 'o', '😠eu', 'sou', 'uma', 'piada', 'pra', 'vc', 'https://tco/wqfvzusczplegal', 'o', 'motoboy', 'passou', 'reto!', 'não', 'parou', 'meia', 'hora', 'depois', 'nada', 'de', 'e', 'tão', 'pouco', 'o', 'restaurante!', 'parabéns', 'pelo', 'excelente', 'atendimentoonão', 'paga!', 'não', 'repassa', 'o', 'que', 'vc', 'vendeu!', 'vergonha', 'esta', 'empresa', 'https://tco/pykevdmak2atenção!', 'donos', 'de', 'restaurantes', 'ou', 'lanchonetes!', 'fujam', 'desta', 'empresa!', 'não', 'repassam', 'o', 'dinheiro!saiam', 'rápido', 'não', 'repassam', 'o', 'nosso', 'dinheiro', 'https://tco/txiyqrjlyuonão', 'paga!', 'não', 'repassa', 'o', 'que', 'vc', 'vendeu!', 'vergonha', 'esta', 'empresa', 'https://tco/pykevdmak2citei', 'que', 'trabalhei', '3', 'anos', 'com', 'java', 'quer', 'mais', 'defeito', 'onde', 'mancaralho', 'q', 'comida', 'ruim', 'q', 'pedi', 'no', ',', 'puta', 'que', 'pariu', 'comi', 'na', 'força', 'do', 'ódio', 'e', 'da', 'fomeeu', 'sou', 'uma', 'piada', 'pra', 'vc', 'https://tco/wqfvzusczpanúncio', 'do', 'é', 'muito', 'chato,', 'pqprteu', 'tenho', 'certeza', 'que', 'o', 'calcula', 'os', 'caracteres', 'pra', 'sempre', 'cortar', 'em', 'cu-', 'https://tco/oqhrgt5btlesse', 'app', 'do', 'tá', 'tirando', 'onda', '😤so', 'queria', 'finalizar', 'minha', 'compra', 'no', 'em', 'paz', 'e', 'o', 'aplicativo', 'so', 'pode', 'ta', 'de', 'sacanagemso', 'queria', 'finalizar', 'minha', 'compra', 'no', 'em', 'paz', 'e', 'o', 'aplicativo', 'so', 'pode', 'ta', 'de', 'sacanageme', 'o', 'gustavo', 'que', 'foi', 'atropelado', 'por', 'um', 'motorista', 'do', 'gente,', 'ele', 'quebro', 'o', 'nariz', 'coitadinho,', 'to', 'tão', 'triste', 'por', 'elerteu', 'tenho', 'certeza', 'que', 'o', 'calcula', 'os', 'caracteres', 'pra', 'sempre', 'cortar', 'em', 'cu-', 'https://tco/oqhrgt5btl', 'o', 'que', 'tá', 'havendo', 'com', 'o', 'chat', 'do', 'app', 'além', 'de', 'não', 'ter', 'recebido', 'o', 'pedido,', 'não', 'consigo', 'falar', 'com', 'vcs', 'de', 'jeito', 'nenhum!']\n"
     ]
    }
   ],
   "source": [
    "tabela_analisada = pd.read_excel(\"ifood classificado.xlsx\")\n",
    "\n",
    "ruim = tabela_analisada.loc[tabela_analisada[\"Unnamed: 1\"] == 1]\n",
    "feliz = tabela_analisada.loc[tabela_analisada[\"Unnamed: 1\"] == 0]\n",
    "\n",
    "print(re.sub(\" {2,}|\\.+|\\?+|{0}\".replace(\"{0}\", palavra_chave), \"\", ruim[\"Dados\"].str.cat()).split())"
   ]
  },
  {
   "cell_type": "code",
   "execution_count": null,
   "metadata": {},
   "outputs": [],
   "source": []
  },
  {
   "cell_type": "code",
   "execution_count": null,
   "metadata": {},
   "outputs": [],
   "source": []
  },
  {
   "cell_type": "markdown",
   "metadata": {},
   "source": [
    "___\n",
    "### Montando o Classificador Naive-Bayes\n",
    "\n",
    "Considerando apenas as mensagens da planilha Treinamento, ensine  seu classificador."
   ]
  },
  {
   "cell_type": "code",
   "execution_count": null,
   "metadata": {},
   "outputs": [],
   "source": []
  },
  {
   "cell_type": "code",
   "execution_count": null,
   "metadata": {},
   "outputs": [],
   "source": []
  },
  {
   "cell_type": "code",
   "execution_count": null,
   "metadata": {},
   "outputs": [],
   "source": []
  },
  {
   "cell_type": "markdown",
   "metadata": {},
   "source": [
    "___\n",
    "### Verificando a performance\n",
    "\n",
    "Agora você deve testar o seu classificador com a base de Testes."
   ]
  },
  {
   "cell_type": "code",
   "execution_count": null,
   "metadata": {},
   "outputs": [],
   "source": []
  },
  {
   "cell_type": "code",
   "execution_count": null,
   "metadata": {},
   "outputs": [],
   "source": []
  },
  {
   "cell_type": "code",
   "execution_count": null,
   "metadata": {},
   "outputs": [],
   "source": []
  },
  {
   "cell_type": "markdown",
   "metadata": {},
   "source": [
    "___\n",
    "### Concluindo"
   ]
  },
  {
   "cell_type": "code",
   "execution_count": null,
   "metadata": {},
   "outputs": [],
   "source": []
  },
  {
   "cell_type": "code",
   "execution_count": null,
   "metadata": {},
   "outputs": [],
   "source": []
  },
  {
   "cell_type": "markdown",
   "metadata": {},
   "source": [
    "## Aperfeiçoamento:\n",
    "\n",
    "Os trabalhos vão evoluir em conceito dependendo da quantidade de itens avançados:\n",
    "\n",
    "* Limpar: \\n, :, \", ', (, ), etc SEM remover emojis\n",
    "* Corrigir separação de espaços entre palavras e emojis ou emojis e emojis\n",
    "* Propor outras limpezas e transformações que não afetem a qualidade da informação ou classificação\n",
    "* Criar categorias intermediárias de relevância baseadas na probabilidade: ex.: muito relevante, relevante, neutro, irrelevante, muito irrelevante (3 categorias: C, mais categorias conta para B)\n",
    "* Explicar por que não posso usar o próprio classificador para gerar mais amostras de treinamento\n",
    "* Propor diferentes cenários para Naïve Bayes fora do contexto do projeto\n",
    "* Sugerir e explicar melhorias reais com indicações concretas de como implementar (indicar como fazer e indicar material de pesquisa)\n",
    "* Montar um dashboard que periodicamente realiza análise de sentimento e visualiza estes dados"
   ]
  },
  {
   "cell_type": "markdown",
   "metadata": {},
   "source": [
    "# Referências"
   ]
  },
  {
   "cell_type": "markdown",
   "metadata": {},
   "source": [
    "[Naive Bayes and Text Classification](https://arxiv.org/pdf/1410.5329.pdf)  **Mais completo**\n",
    "\n",
    "[A practical explanation of a Naive Bayes Classifier](https://monkeylearn.com/blog/practical-explanation-naive-bayes-classifier/) **Mais simples**"
   ]
  },
  {
   "cell_type": "code",
   "execution_count": null,
   "metadata": {},
   "outputs": [],
   "source": []
  }
 ],
 "metadata": {
  "kernelspec": {
   "display_name": "Python 3",
   "language": "python",
   "name": "python3"
  },
  "language_info": {
   "codemirror_mode": {
    "name": "ipython",
    "version": 3
   },
   "file_extension": ".py",
   "mimetype": "text/x-python",
   "name": "python",
   "nbconvert_exporter": "python",
   "pygments_lexer": "ipython3",
   "version": "3.7.4"
  }
 },
 "nbformat": 4,
 "nbformat_minor": 4
}
